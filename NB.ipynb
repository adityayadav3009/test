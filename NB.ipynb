{
 "cells": [
  {
   "cell_type": "code",
   "execution_count": 4,
   "metadata": {},
   "outputs": [
    {
     "data": {
      "text/html": [
       "<div>\n",
       "<style scoped>\n",
       "    .dataframe tbody tr th:only-of-type {\n",
       "        vertical-align: middle;\n",
       "    }\n",
       "\n",
       "    .dataframe tbody tr th {\n",
       "        vertical-align: top;\n",
       "    }\n",
       "\n",
       "    .dataframe thead th {\n",
       "        text-align: right;\n",
       "    }\n",
       "</style>\n",
       "<table border=\"1\" class=\"dataframe\">\n",
       "  <thead>\n",
       "    <tr style=\"text-align: right;\">\n",
       "      <th></th>\n",
       "      <th>id</th>\n",
       "      <th>genre</th>\n",
       "    </tr>\n",
       "  </thead>\n",
       "  <tbody>\n",
       "    <tr>\n",
       "      <th>0</th>\n",
       "      <td>17743</td>\n",
       "      <td>5</td>\n",
       "    </tr>\n",
       "    <tr>\n",
       "      <th>1</th>\n",
       "      <td>17744</td>\n",
       "      <td>6</td>\n",
       "    </tr>\n",
       "    <tr>\n",
       "      <th>2</th>\n",
       "      <td>17745</td>\n",
       "      <td>2</td>\n",
       "    </tr>\n",
       "    <tr>\n",
       "      <th>3</th>\n",
       "      <td>17746</td>\n",
       "      <td>5</td>\n",
       "    </tr>\n",
       "    <tr>\n",
       "      <th>4</th>\n",
       "      <td>17747</td>\n",
       "      <td>1</td>\n",
       "    </tr>\n",
       "    <tr>\n",
       "      <th>...</th>\n",
       "      <td>...</td>\n",
       "      <td>...</td>\n",
       "    </tr>\n",
       "    <tr>\n",
       "      <th>5909</th>\n",
       "      <td>23652</td>\n",
       "      <td>6</td>\n",
       "    </tr>\n",
       "    <tr>\n",
       "      <th>5910</th>\n",
       "      <td>23653</td>\n",
       "      <td>2</td>\n",
       "    </tr>\n",
       "    <tr>\n",
       "      <th>5911</th>\n",
       "      <td>23654</td>\n",
       "      <td>2</td>\n",
       "    </tr>\n",
       "    <tr>\n",
       "      <th>5912</th>\n",
       "      <td>23655</td>\n",
       "      <td>2</td>\n",
       "    </tr>\n",
       "    <tr>\n",
       "      <th>5913</th>\n",
       "      <td>23656</td>\n",
       "      <td>3</td>\n",
       "    </tr>\n",
       "  </tbody>\n",
       "</table>\n",
       "<p>5914 rows × 2 columns</p>\n",
       "</div>"
      ],
      "text/plain": [
       "         id  genre\n",
       "0     17743      5\n",
       "1     17744      6\n",
       "2     17745      2\n",
       "3     17746      5\n",
       "4     17747      1\n",
       "...     ...    ...\n",
       "5909  23652      6\n",
       "5910  23653      2\n",
       "5911  23654      2\n",
       "5912  23655      2\n",
       "5913  23656      3\n",
       "\n",
       "[5914 rows x 2 columns]"
      ]
     },
     "execution_count": 4,
     "metadata": {},
     "output_type": "execute_result"
    }
   ],
   "source": [
    "import pandas as pd\n",
    "from sklearn.naive_bayes import GaussianNB\n",
    "import numpy as np\n",
    "sample=pd.read_csv(\"music_samplesubmission.csv\")\n",
    "sample"
   ]
  },
  {
   "cell_type": "code",
   "execution_count": 2,
   "metadata": {},
   "outputs": [],
   "source": [
    "train=pd.read_csv(\"music_train.csv\")\n",
    "train=train.fillna(train.mean())\n",
    "train[\"topic\"]=train[\"topic\"].astype(int)\n",
    "X_train=train[['release_date', 'dating', 'violence', 'world/life', 'night/time',\n",
    "       'shake the audience', 'family/gospel', 'romantic', 'communication',\n",
    "       'obscene', 'music', 'movement/places', 'light/visual perceptions',\n",
    "       'family/spiritual', 'like/girls', 'sadness', 'feelings', 'danceability',\n",
    "       'loudness', 'acousticness', 'instrumentalness', 'valence', 'energy',\n",
    "       'age',\"topic\"]]\n",
    "Y_train=train[\"genre\"]"
   ]
  },
  {
   "cell_type": "code",
   "execution_count": 6,
   "metadata": {},
   "outputs": [
    {
     "data": {
      "text/plain": [
       "GaussianNB()"
      ]
     },
     "execution_count": 6,
     "metadata": {},
     "output_type": "execute_result"
    }
   ],
   "source": [
    "Naive_model = GaussianNB()\n",
    "Naive_model.fit(X_train, Y_train)\n"
   ]
  },
  {
   "cell_type": "code",
   "execution_count": 7,
   "metadata": {},
   "outputs": [],
   "source": [
    "test=pd.read_csv(\"music_test.csv\")\n",
    "test=test.fillna(test.mean())\n",
    "X_test=test[['release_date', 'dating', 'violence', 'world/life', 'night/time',\n",
    "       'shake the audience', 'family/gospel', 'romantic', 'communication',\n",
    "       'obscene', 'music', 'movement/places', 'light/visual perceptions',\n",
    "       'family/spiritual', 'like/girls', 'sadness', 'feelings', 'danceability',\n",
    "       'loudness', 'acousticness', 'instrumentalness', 'valence', 'energy',\n",
    "       'age',\"topic\"]]"
   ]
  },
  {
   "cell_type": "code",
   "execution_count": 9,
   "metadata": {},
   "outputs": [],
   "source": [
    "y_predict = Naive_model.predict(X_test)\n",
    "result=pd.DataFrame({\"id\":test[\"id\"],\n",
    "              \"genre\":y_predict})\n",
    "result.set_index(\"id\",inplace=True)\n",
    "result.to_csv(\"NB.csv\")"
   ]
  },
  {
   "cell_type": "code",
   "execution_count": 10,
   "metadata": {},
   "outputs": [
    {
     "data": {
      "text/plain": [
       "array([1, 4, 3, 6, 2, 0, 5], dtype=int64)"
      ]
     },
     "execution_count": 10,
     "metadata": {},
     "output_type": "execute_result"
    }
   ],
   "source": []
  }
 ],
 "metadata": {
  "kernelspec": {
   "display_name": "Python 3",
   "language": "python",
   "name": "python3"
  },
  "language_info": {
   "codemirror_mode": {
    "name": "ipython",
    "version": 3
   },
   "file_extension": ".py",
   "mimetype": "text/x-python",
   "name": "python",
   "nbconvert_exporter": "python",
   "pygments_lexer": "ipython3",
   "version": "3.8.5"
  }
 },
 "nbformat": 4,
 "nbformat_minor": 4
}
