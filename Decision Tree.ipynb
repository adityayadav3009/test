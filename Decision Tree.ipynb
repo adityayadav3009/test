{
 "cells": [
  {
   "cell_type": "code",
   "execution_count": 3,
   "metadata": {},
   "outputs": [],
   "source": [
    "import pandas as pd\n",
    "from sklearn.tree import DecisionTreeClassifier\n",
    "DTree_model = DecisionTreeClassifier()\n",
    "import numpy as np\n",
    "sample=pd.read_csv(\"music_samplesubmission.csv\")\n"
   ]
  },
  {
   "cell_type": "code",
   "execution_count": 4,
   "metadata": {},
   "outputs": [],
   "source": [
    "train=pd.read_csv(\"music_train.csv\")\n",
    "train=train.fillna(train.mean())\n",
    "train[\"topic\"]=train[\"topic\"].astype(int)\n",
    "X_train=train[['release_date', 'dating', 'violence', 'world/life', 'night/time',\n",
    "       'shake the audience', 'family/gospel', 'romantic', 'communication',\n",
    "       'obscene', 'music', 'movement/places', 'light/visual perceptions',\n",
    "       'family/spiritual', 'like/girls', 'sadness', 'feelings', 'danceability',\n",
    "       'loudness', 'acousticness', 'instrumentalness', 'valence', 'energy',\n",
    "       'age',\"topic\"]]\n",
    "Y_train=train[\"genre\"]"
   ]
  },
  {
   "cell_type": "code",
   "execution_count": 5,
   "metadata": {},
   "outputs": [],
   "source": [
    "test=pd.read_csv(\"music_test.csv\")\n",
    "test=test.fillna(test.mean())\n",
    "X_test=test[['release_date', 'dating', 'violence', 'world/life', 'night/time',\n",
    "       'shake the audience', 'family/gospel', 'romantic', 'communication',\n",
    "       'obscene', 'music', 'movement/places', 'light/visual perceptions',\n",
    "       'family/spiritual', 'like/girls', 'sadness', 'feelings', 'danceability',\n",
    "       'loudness', 'acousticness', 'instrumentalness', 'valence', 'energy',\n",
    "       'age',\"topic\"]]"
   ]
  },
  {
   "cell_type": "code",
   "execution_count": 6,
   "metadata": {},
   "outputs": [],
   "source": [
    "DTree_model.fit(X_train, Y_train)\n",
    "y_predict = DTree_model.predict(X_test)"
   ]
  },
  {
   "cell_type": "code",
   "execution_count": 7,
   "metadata": {},
   "outputs": [],
   "source": [
    "result=pd.DataFrame({\"id\":test[\"id\"],\n",
    "              \"genre\":y_predict})\n",
    "result.set_index(\"id\",inplace=True)\n",
    "result.to_csv(\"Decision_tree.csv\")"
   ]
  }
 ],
 "metadata": {
  "kernelspec": {
   "display_name": "Python 3",
   "language": "python",
   "name": "python3"
  },
  "language_info": {
   "codemirror_mode": {
    "name": "ipython",
    "version": 3
   },
   "file_extension": ".py",
   "mimetype": "text/x-python",
   "name": "python",
   "nbconvert_exporter": "python",
   "pygments_lexer": "ipython3",
   "version": "3.8.5"
  }
 },
 "nbformat": 4,
 "nbformat_minor": 4
}
