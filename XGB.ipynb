{
 "cells": [
  {
   "cell_type": "code",
   "execution_count": 1,
   "metadata": {},
   "outputs": [],
   "source": [
    "import pandas as pd\n",
    "from xgboost import XGBClassifier\n",
    "model = XGBClassifier()\n",
    "import numpy as np\n",
    "sample=pd.read_csv(\"music_samplesubmission.csv\")\n"
   ]
  },
  {
   "cell_type": "code",
   "execution_count": 2,
   "metadata": {},
   "outputs": [],
   "source": [
    "train=pd.read_csv(\"music_train.csv\")\n",
    "train=train.fillna(train.mean())\n",
    "train[\"topic\"]=train[\"topic\"].astype(int)\n",
    "X_train=train[['dating', 'violence', 'world/life', 'night/time',\n",
    "       'shake the audience', 'family/gospel', 'romantic', 'communication',\n",
    "       'obscene', 'music', 'movement/places', 'light/visual perceptions',\n",
    "       'family/spiritual', 'like/girls', 'sadness', 'feelings', 'danceability',\n",
    "       'loudness', 'acousticness', 'instrumentalness', 'valence', 'energy',\n",
    "       'age',\"topic\"]]\n",
    "Y_train=train[\"genre\"]"
   ]
  },
  {
   "cell_type": "code",
   "execution_count": 3,
   "metadata": {},
   "outputs": [],
   "source": [
    "test=pd.read_csv(\"music_test.csv\")\n",
    "test=test.fillna(test.mean())\n",
    "X_test=test[['dating', 'violence', 'world/life', 'night/time',\n",
    "       'shake the audience', 'family/gospel', 'romantic', 'communication',\n",
    "       'obscene', 'music', 'movement/places', 'light/visual perceptions',\n",
    "       'family/spiritual', 'like/girls', 'sadness', 'feelings', 'danceability',\n",
    "       'loudness', 'acousticness', 'instrumentalness', 'valence', 'energy',\n",
    "       'age',\"topic\"]]"
   ]
  },
  {
   "cell_type": "code",
   "execution_count": 4,
   "metadata": {},
   "outputs": [
    {
     "name": "stderr",
     "output_type": "stream",
     "text": [
      "C:\\Users\\Lenovo\\anaconda3\\lib\\site-packages\\xgboost\\sklearn.py:888: UserWarning: The use of label encoder in XGBClassifier is deprecated and will be removed in a future release. To remove this warning, do the following: 1) Pass option use_label_encoder=False when constructing XGBClassifier object; and 2) Encode your labels (y) as integers starting with 0, i.e. 0, 1, 2, ..., [num_class - 1].\n",
      "  warnings.warn(label_encoder_deprecation_msg, UserWarning)\n"
     ]
    },
    {
     "name": "stdout",
     "output_type": "stream",
     "text": [
      "[17:02:35] WARNING: C:/Users/Administrator/workspace/xgboost-win64_release_1.3.0/src/learner.cc:1061: Starting in XGBoost 1.3.0, the default evaluation metric used with the objective 'multi:softprob' was changed from 'merror' to 'mlogloss'. Explicitly set eval_metric if you'd like to restore the old behavior.\n"
     ]
    }
   ],
   "source": [
    "model.fit(X_train, Y_train)\n",
    "y_predict = model.predict(X_test)"
   ]
  },
  {
   "cell_type": "code",
   "execution_count": 5,
   "metadata": {},
   "outputs": [],
   "source": [
    "\n",
    "result=pd.DataFrame({\"id\":test[\"id\"],\n",
    "              \"genre\":y_predict})\n",
    "result.set_index(\"id\",inplace=True)\n",
    "result.to_csv(\"XGB.csv\")"
   ]
  }
 ],
 "metadata": {
  "kernelspec": {
   "display_name": "Python 3",
   "language": "python",
   "name": "python3"
  },
  "language_info": {
   "codemirror_mode": {
    "name": "ipython",
    "version": 3
   },
   "file_extension": ".py",
   "mimetype": "text/x-python",
   "name": "python",
   "nbconvert_exporter": "python",
   "pygments_lexer": "ipython3",
   "version": "3.8.5"
  }
 },
 "nbformat": 4,
 "nbformat_minor": 4
}
